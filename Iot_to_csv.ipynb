{
 "cells": [
  {
   "cell_type": "code",
   "execution_count": null,
   "id": "c587cc50",
   "metadata": {},
   "outputs": [],
   "source": [
    "import json\n",
    "import pandas as pd\n",
    "import paho.mqtt.client as mqtt\n",
    "import time"
   ]
  },
  {
   "cell_type": "code",
   "execution_count": null,
   "id": "8e2ea92e",
   "metadata": {},
   "outputs": [],
   "source": [
    "\n",
    "# Load JSON data\n",
    "with open(\"../data/iot_data.json\", \"r\") as f:\n",
    "    data = json.load(f)\n",
    "\n",
    "# Convert to DataFrame\n",
    "df = pd.DataFrame(data)\n",
    "\n",
    "# Save as CSV\n",
    "df.to_csv(\"../data/iot_data.csv\", index=False)\n"
   ]
  },
  {
   "cell_type": "code",
   "execution_count": null,
   "id": "8c358130",
   "metadata": {},
   "outputs": [],
   "source": [
    "\n",
    "data_buffer = []\n",
    "\n",
    "def on_message(client, userdata, msg):\n",
    "    payload = json.loads(msg.payload)\n",
    "    data_buffer.append(payload)\n",
    "\n",
    "client = mqtt.Client()\n",
    "client.on_message = on_message\n",
    "client.connect(\"mqtt_broker_address\")\n",
    "client.subscribe(\"sensor/topic\")\n",
    "client.loop_start()\n",
    "\n",
    "# Save to CSV after collecting for some time\n",
    "\n",
    "time.sleep(10)  # Wait to collect data\n",
    "client.loop_stop()\n",
    "\n",
    "pd.DataFrame(data_buffer).to_csv(\"../data/realtime_iot_data.csv\", index=False)\n"
   ]
  }
 ],
 "metadata": {
  "kernelspec": {
   "display_name": ".venv",
   "language": "python",
   "name": "python3"
  },
  "language_info": {
   "codemirror_mode": {
    "name": "ipython",
    "version": 3
   },
   "file_extension": ".py",
   "mimetype": "text/x-python",
   "name": "python",
   "nbconvert_exporter": "python",
   "pygments_lexer": "ipython3",
   "version": "3.12.6"
  }
 },
 "nbformat": 4,
 "nbformat_minor": 5
}
